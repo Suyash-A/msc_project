{
 "cells": [
  {
   "cell_type": "code",
   "execution_count": 1,
   "metadata": {},
   "outputs": [],
   "source": [
    "import pandas as pd"
   ]
  },
  {
   "cell_type": "code",
   "execution_count": 7,
   "metadata": {},
   "outputs": [
    {
     "name": "stdout",
     "output_type": "stream",
     "text": [
      "(223228, 15)\n",
      "(469025, 15)\n"
     ]
    }
   ],
   "source": [
    "mimic_labels = pd.read_csv('../data_msc_project/data/mimic/mimic_labels(chexbert).csv')\n",
    "chexpert_labels = pd.read_csv('../data_msc_project/data/chexpert/chexpert_labels(chexbert).csv')\n",
    "\n",
    "print(chexpert_labels.shape)\n",
    "\n",
    "# No Finding\n",
    "mimic_labels_nf = mimic_labels.loc[mimic_labels['No Finding'].isin([1,0,-1])]\n",
    "chexpert_labels_nf = chexpert_labels.append(mimic_labels_nf, ignore_index=True)\n",
    "\n",
    "# Enlarged Cardiomediastinum\n",
    "mimic_labels_ec = mimic_labels.loc[mimic_labels['Enlarged Cardiomediastinum'].isin([1,0,-1])]\n",
    "chexpert_labels_ec = chexpert_labels_nf.append(mimic_labels_ec, ignore_index=True)\n",
    "\n",
    "# Cardiomegaly\n",
    "mimic_labels_c = mimic_labels.loc[mimic_labels['Cardiomegaly'].isin([1,0,-1])]\n",
    "chexpert_labels_c = chexpert_labels_ec.append(mimic_labels_c, ignore_index=True)\n",
    "\n",
    "# Lung Lesion\n",
    "mimic_labels_ll = mimic_labels.loc[mimic_labels['Lung Lesion'].isin([1,0,-1])]\n",
    "chexpert_labels_ll = chexpert_labels_c.append(mimic_labels_ll, ignore_index=True)\n",
    "\n",
    "# Pneumonia\n",
    "mimic_labels_p = mimic_labels.loc[mimic_labels['Pneumonia'].isin([1,0,-1])]\n",
    "chexpert_labels_p = chexpert_labels_ll.append(mimic_labels_p, ignore_index=True)\n",
    "\n",
    "# Pleural Other\n",
    "mimic_labels_po = mimic_labels.loc[mimic_labels['Pleural Other'].isin([1,0,-1])]\n",
    "chexpert_labels_po = chexpert_labels_p.append(mimic_labels_po, ignore_index=True)\n",
    "\n",
    "# Fracture\n",
    "mimic_labels_f = mimic_labels.loc[mimic_labels['Fracture'].isin([1,0,-1])]\n",
    "chexpert_labels_f = chexpert_labels_po.append(mimic_labels_f, ignore_index=True)\n",
    "\n",
    "# Shuffle the rows\n",
    "chexpert_labels_f = chexpert_labels_f.sample(frac=1).reset_index(drop=True)\n",
    "\n",
    "chexpert_labels_f.to_csv('../data_msc_project/data/balanced/balanced(chexbert).csv', index=False)\n",
    "\n",
    "# Save first column in a separate file\n",
    "chexpert_labels_f.iloc[:,0].to_csv('../data_msc_project/data/balanced/balanced_reports.csv', index=False)\n",
    "\n",
    "print(chexpert_labels_f.shape)\n"
   ]
  },
  {
   "cell_type": "code",
   "execution_count": null,
   "metadata": {},
   "outputs": [],
   "source": []
  }
 ],
 "metadata": {
  "kernelspec": {
   "display_name": "test",
   "language": "python",
   "name": "python3"
  },
  "language_info": {
   "codemirror_mode": {
    "name": "ipython",
    "version": 3
   },
   "file_extension": ".py",
   "mimetype": "text/x-python",
   "name": "python",
   "nbconvert_exporter": "python",
   "pygments_lexer": "ipython3",
   "version": "3.7.7"
  }
 },
 "nbformat": 4,
 "nbformat_minor": 2
}
