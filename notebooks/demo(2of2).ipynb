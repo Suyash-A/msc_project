{
 "cells": [
  {
   "cell_type": "markdown",
   "metadata": {},
   "source": [
    "# Visualisation Tool"
   ]
  },
  {
   "cell_type": "markdown",
   "metadata": {},
   "source": [
    "## Import libraries"
   ]
  },
  {
   "cell_type": "code",
   "execution_count": 6,
   "metadata": {},
   "outputs": [],
   "source": [
    "# Use visual conda environment\n",
    "from transformers import BertModel, BertTokenizer\n",
    "from bertviz import model_view, head_view\n",
    "import torch\n",
    "import torch.nn as nn\n",
    "from transformers import BertModel, BertTokenizer\n",
    "from bertviz import model_view, head_view\n",
    "import matplotlib.pyplot as plt\n",
    "import matplotlib.patches as patches\n",
    "import seaborn as sns\n",
    "import numpy as np\n",
    "import torch.nn.functional as F"
   ]
  },
  {
   "cell_type": "markdown",
   "metadata": {},
   "source": [
    "## Load Model Checkpoint"
   ]
  },
  {
   "cell_type": "code",
   "execution_count": 7,
   "metadata": {},
   "outputs": [],
   "source": [
    "# Define your local model path\n",
    "model_path = \"../models/CheXbert/model_path/chexbert.pth\"\n",
    "# model_path = \"../data_msc_project/bertdata/batch64-please4-bluebert-balancedset-chexblabeled/model_epoch8_iter4000\""
   ]
  },
  {
   "cell_type": "markdown",
   "metadata": {},
   "source": [
    "## Define an input text report"
   ]
  },
  {
   "cell_type": "code",
   "execution_count": 23,
   "metadata": {},
   "outputs": [],
   "source": [
    "# input_text = \"\"\"Mild pulmonary edema superimposed on known lung fibrosis. Severe\n",
    "#  chronic cardiomegaly and pulmonary hypertension. No displaced rib fracture. \n",
    "#  Multiple vertebroplasties, similar to prior.\"\"\"\n",
    "\n",
    "# input_text = \"\"\"No definite evidence for congestive heart failure.  Patchy\n",
    "#  streaky opacity in the right lung base likely reflects atelectasis though\n",
    "#  infection is difficult to exclude.\"\"\"\n",
    "\n",
    "# input_text = \"\"\"In comparison with study of ___, the width of the mediastinum\n",
    "#  has decreased.  The cardiac silhouette is within normal limits.  Minimal\n",
    "#  atelectasis at the left base but no vascular congestion or acute focal\n",
    "#  pneumonia.\"\"\"\n",
    "\n",
    "# input_text = \"\"\"As compared to the previous radiograph, the known right\n",
    "#  pneumothorax is stable.\n",
    " \n",
    "#  On the left, there is major evidence of pneumothorax.  The right pleural effusion\n",
    "#  has completely resolved.  Abnormally enlarged cardiac silhouette.  Normal hilar\n",
    "#  and mediastinal contours.\"\"\"\n",
    "\n",
    "# input_text = \"Overall stable exam with extensive metastatic disease to the \\n lungs with right pleural effusion and right basal consolidation.\"\n",
    "\n",
    "# input_text = \"There is no pneumonia.\"\n",
    "\n",
    "# input_text = \"\"\"In the hole in the ground there lived a hobbit. And not a nasty, dirty, wet hole, filled with the ends of worms and an oozy smell, nor yet a dry, bare, sandy hole with nothing in it to sit down on or to eat: it was a hobbit-hole, and that means comfort.\"\"\"\n",
    "\n",
    "# input_text = \"\"\"When shall we three meet again, in thunder, lightning, or in rain? When the hurlyburly's done, when the battle's lost and won. That will be ere the set of sun.\"\"\"\n",
    "\n",
    "input_text = \"\"\"Large patches on the lungs which are inflamed, with a small amount of fluid in the pleural space. The heart is abnormally enlarged in size. The mediastinum is unremarkable.\"\"\"\n",
    "\n",
    "# input_text = \"\"\"As compared to the previous radiograph, there is no relevant\n",
    "#  change.  The monitoring and support devices are constant.  Low lung volumes,\n",
    "#  borderline size of the cardiac silhouette.  Mild pulmonary edema.  Moderate\n",
    "#  retrocardiac atelectasis.  No evidence of pneumonia.\"\"\""
   ]
  },
  {
   "cell_type": "markdown",
   "metadata": {},
   "source": [
    "## Compute Token Weights\n",
    "- Getting output token embeddings from base model\n",
    "- Computing token weights using linear head's weight matrices\n",
    "- Normalisation of token weights"
   ]
  },
  {
   "cell_type": "code",
   "execution_count": 24,
   "metadata": {},
   "outputs": [
    {
     "name": "stdout",
     "output_type": "stream",
     "text": [
      "14\n",
      "(46, 4)\n"
     ]
    }
   ],
   "source": [
    "# Load the tokenizer from the same model used to train chexbert.pth\n",
    "tokenizer_name = \"bert-base-uncased\"  # Replace with the correct tokenizer if different\n",
    "tokenizer = BertTokenizer.from_pretrained(tokenizer_name)\n",
    "\n",
    "# Define a modified BERT model with an additional layer\n",
    "class ChexbertModel(nn.Module):\n",
    "    def __init__(self):\n",
    "        super(ChexbertModel, self).__init__()\n",
    "        self.bert = BertModel.from_pretrained(tokenizer_name, output_attentions=True)\n",
    "        self.linear_heads = nn.ModuleList([nn.Linear(768, 4) if i < 13 else nn.Linear(768, 2) for i in range(14)])  # Adjusting the sizes to match the state dict\n",
    "\n",
    "    def forward(self, input_ids, attention_mask=None, token_type_ids=None):\n",
    "        outputs = self.bert(input_ids, attention_mask=attention_mask, token_type_ids=token_type_ids)\n",
    "        sequence_output = outputs[0]\n",
    "        additional_outputs = [head(sequence_output) for head in self.linear_heads]\n",
    "        return outputs + (additional_outputs,)\n",
    "\n",
    "# Initialize the model\n",
    "model = ChexbertModel()\n",
    "\n",
    "# Load the state dictionary\n",
    "state_dict = torch.load(model_path)\n",
    "\n",
    "# Extract the actual model state dictionary if necessary\n",
    "if 'model_state_dict' in state_dict:\n",
    "    state_dict = state_dict['model_state_dict']\n",
    "\n",
    "# Remove the `module.` and `bert.` prefixes if they exist\n",
    "new_state_dict = {}\n",
    "for key, value in state_dict.items():\n",
    "    if key.startswith('module.bert.'):\n",
    "        new_key = key[7:]  # Remove `module.` prefix\n",
    "    elif key.startswith('bert.'):\n",
    "        new_key = key  # No change needed\n",
    "    elif key.startswith('module.'):\n",
    "        new_key = key[7:]  # Remove `module.` prefix\n",
    "    else:\n",
    "        new_key = key\n",
    "\n",
    "    new_state_dict[new_key] = value\n",
    "\n",
    "# Load the model weights from the adjusted state dictionary\n",
    "model.load_state_dict(new_state_dict, strict=False)\n",
    "\n",
    "# Tokenize input text\n",
    "inputs = tokenizer.encode(input_text, return_tensors='pt')\n",
    "\n",
    "# Run model\n",
    "outputs = model(inputs)\n",
    "\n",
    "# Retrieve additional outputs (linear heads)\n",
    "additional_outputs = outputs[-1]\n",
    "\n",
    "# Convert input ids to token strings\n",
    "tokens = tokenizer.convert_ids_to_tokens(inputs[0])\n",
    "\n",
    "# Compute the impact of each token on the output of each linear head\n",
    "def compute_token_impact(sequence_output, linear_heads):\n",
    "    impacts = []\n",
    "    for head in linear_heads:\n",
    "        # Compute the impact of each token by using the dot product between the token embeddings and the weights of the linear head\n",
    "        token_impacts = torch.matmul(sequence_output, head.weight.t()) + head.bias\n",
    "        # Normalize the impacts\n",
    "        token_impacts = token_impacts.detach().cpu().numpy()\n",
    "        impacts.append(token_impacts)\n",
    "    return impacts\n",
    "\n",
    "# Get sequence output from the model\n",
    "sequence_output = outputs[0].squeeze(0)\n",
    "\n",
    "# Compute the impacts\n",
    "token_impacts = compute_token_impact(sequence_output, model.linear_heads)\n",
    "\n",
    "# Print size of list\n",
    "print(len(token_impacts))\n",
    "print(token_impacts[0].shape)\n",
    "\n",
    "# Normalize the impacts\n",
    "for i in range(len(token_impacts)):\n",
    "    min = np.min(token_impacts[i].flatten())\n",
    "    max = np.max(token_impacts[i].flatten())\n",
    "    for j in range(len(token_impacts[i])):\n",
    "        token_impacts[i][j] = (token_impacts[i][j] - min) / (max - min)\n"
   ]
  },
  {
   "cell_type": "markdown",
   "metadata": {},
   "source": [
    "## Visualising through heatmap\n",
    "- Show token weights for relevant classes"
   ]
  },
  {
   "cell_type": "code",
   "execution_count": 25,
   "metadata": {},
   "outputs": [
    {
     "data": {
      "image/png": "[encoded data removed]",
      "text/plain": [
       "<Figure size 1080x576 with 2 Axes>"
      ]
     },
     "metadata": {
      "needs_background": "light"
     },
     "output_type": "display_data"
    }
   ],
   "source": [
    "def visualize_highest_sum_bars(token_impacts, tokens):\n",
    "    yticklabels = ['Blank', 'Positive', 'Negative', 'Uncertain']\n",
    "    linear_head_labels = ['Enlarged Cardiomediastinum', 'Cardiomegaly', 'Lung Opacity', 'Lung Lesion', 'Edema',\n",
    "                          'Consolidation', 'Pneumonia', 'Atelectasis', 'Pneumothorax', 'Pleural Effusion',\n",
    "                          'Pleural Other', 'Fracture', 'Support Devices', 'No Finding']\n",
    "    \n",
    "    # Create an empty list to store the highest sum rows\n",
    "    highest_sum_rows = []\n",
    "    highest_sum_labels = []\n",
    "\n",
    "    # Track rows that should be outlined in red\n",
    "    rows_to_outline = []\n",
    "\n",
    "    for i, impact in enumerate(token_impacts):\n",
    "        # Calculate the total sum of values for each class (horizontal bar)\n",
    "        class_sums = np.sum(impact, axis=0)\n",
    "        \n",
    "        # Find the class with the highest total sum\n",
    "        max_class_index = np.argmax(class_sums)\n",
    "        \n",
    "        # Append the corresponding row to the list\n",
    "        highest_sum_rows.append(impact[:, max_class_index])  # Correct indexing to get the proper shape\n",
    "        highest_sum_labels.append(linear_head_labels[i])\n",
    "\n",
    "        # Mark the row for outlining if max_class_index is not the blank class (index 0)\n",
    "        if max_class_index != 0:  # Assuming 'Blank' is at index 0\n",
    "            rows_to_outline.append(i)\n",
    "    \n",
    "    # Convert the list to a numpy array for visualization\n",
    "    highest_sum_matrix = np.array(highest_sum_rows)\n",
    "\n",
    "    # Create a mask for the rows that will be blacked out (where max_class_index is 0)\n",
    "    mask = np.ones_like(highest_sum_matrix, dtype=bool)\n",
    "    for row in rows_to_outline:\n",
    "        mask[row, :] = False  # Unmask rows to be outlined in red\n",
    "    \n",
    "    # Plot the heatmap with masked areas blacked out\n",
    "    plt.figure(figsize=(15, 8))\n",
    "    # plt.figure(figsize=(45, 24))\n",
    "    ax = sns.heatmap(highest_sum_matrix, \n",
    "                     xticklabels=tokens, \n",
    "                     yticklabels=highest_sum_labels, \n",
    "                     cmap='viridis', \n",
    "                     cbar=True, \n",
    "                     annot=False,\n",
    "                     mask=mask,  # Apply the mask\n",
    "                     linewidths=0)  # No borders for cells\n",
    "    \n",
    "    # Black out the masked areas\n",
    "    ax.set_facecolor('black')  # Set the face color of the masked areas to black\n",
    "    \n",
    "    plt.title('Heatmap of input token impacts on model classification')\n",
    "    plt.xlabel('Tokens')\n",
    "    plt.xticks(rotation=45, ha='right')\n",
    "    plt.ylabel('Linear Heads')\n",
    "    \n",
    "    # Outline rows that are not 'Blank' (i.e., index not 0) in red\n",
    "    for row in rows_to_outline:\n",
    "        ax.add_patch(patches.Rectangle((0, row), highest_sum_matrix.shape[1], 1, \n",
    "                                       fill=False, edgecolor='red', lw=2))\n",
    "    \n",
    "    plt.show()\n",
    "\n",
    "# Visualize the highest sum bars for each linear head\n",
    "visualize_highest_sum_bars(token_impacts, tokens)\n"
   ]
  },
  {
   "cell_type": "code",
   "execution_count": null,
   "metadata": {},
   "outputs": [],
   "source": []
  }
 ],
 "metadata": {
  "kernelspec": {
   "display_name": "old_test",
   "language": "python",
   "name": "python3"
  },
  "language_info": {
   "codemirror_mode": {
    "name": "ipython",
    "version": 3
   },
   "file_extension": ".py",
   "mimetype": "text/x-python",
   "name": "python",
   "nbconvert_exporter": "python",
   "pygments_lexer": "ipython3",
   "version": "3.7.7"
  }
 },
 "nbformat": 4,
 "nbformat_minor": 2
}
