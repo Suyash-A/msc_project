{
 "cells": [
  {
   "cell_type": "code",
   "execution_count": 1,
   "metadata": {},
   "outputs": [],
   "source": [
    "import pandas as pd\n",
    "from sklearn.model_selection import train_test_split"
   ]
  },
  {
   "cell_type": "code",
   "execution_count": 2,
   "metadata": {},
   "outputs": [
    {
     "name": "stdout",
     "output_type": "stream",
     "text": [
      "(178582, 15)\n",
      "(44646, 15)\n"
     ]
    }
   ],
   "source": [
    "# chexpert_labels = pd.read_csv('../data_msc_project/data/chexpert/chexpert_labels(chexbert).csv')\n",
    "\n",
    "# # Split data into train and dev\n",
    "# chexpert_labels_train, chexpert_labels_dev = train_test_split(chexpert_labels, test_size=0.2, random_state=42)\n",
    "\n",
    "# # Save train and dev data\n",
    "# chexpert_labels_train.to_csv('../data_msc_project/data/dev/chexpert_train(chexbert).csv', index=False)\n",
    "# chexpert_labels_dev.to_csv('../data_msc_project/data/dev/chexpert_dev(chexbert).csv', index=False)\n",
    "\n",
    "# # Save first column in a separate file\n",
    "# chexpert_labels_train.iloc[:,0].to_csv('../data_msc_project/data/dev/chexpert_train_reports.csv', index=False)\n",
    "# chexpert_labels_dev.iloc[:,0].to_csv('../data_msc_project/data/dev/chexpert_dev_reports.csv', index=False)\n",
    "\n",
    "# print(chexpert_labels_train.shape)\n",
    "# print(chexpert_labels_dev.shape)\n"
   ]
  },
  {
   "cell_type": "code",
   "execution_count": 2,
   "metadata": {},
   "outputs": [
    {
     "name": "stdout",
     "output_type": "stream",
     "text": [
      "(375220, 15)\n",
      "(93805, 15)\n"
     ]
    }
   ],
   "source": [
    "balanced_labels = pd.read_csv('../data_msc_project/data/balanced/balanced(chexbert).csv')\n",
    "balanced_labels_train, balanced_labels_dev = train_test_split(balanced_labels, test_size=0.2, random_state=42)\n",
    "\n",
    "balanced_labels_train.to_csv('../data_msc_project/data/dev/balanced_train(chexbert).csv', index=False)\n",
    "balanced_labels_dev.to_csv('../data_msc_project/data/dev/balanced_dev(chexbert).csv', index=False)\n",
    "\n",
    "balanced_labels_train.iloc[:,0].to_csv('../data_msc_project/data/dev/balanced_train_reports.csv', index=False)\n",
    "balanced_labels_dev.iloc[:,0].to_csv('../data_msc_project/data/dev/balanced_dev_reports.csv', index=False)\n",
    "\n",
    "print(balanced_labels_train.shape)\n",
    "print(balanced_labels_dev.shape)"
   ]
  },
  {
   "cell_type": "code",
   "execution_count": null,
   "metadata": {},
   "outputs": [],
   "source": []
  }
 ],
 "metadata": {
  "kernelspec": {
   "display_name": "test",
   "language": "python",
   "name": "python3"
  },
  "language_info": {
   "codemirror_mode": {
    "name": "ipython",
    "version": 3
   },
   "file_extension": ".py",
   "mimetype": "text/x-python",
   "name": "python",
   "nbconvert_exporter": "python",
   "pygments_lexer": "ipython3",
   "version": "3.7.7"
  }
 },
 "nbformat": 4,
 "nbformat_minor": 2
}
